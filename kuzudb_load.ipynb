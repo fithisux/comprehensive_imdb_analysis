{
 "cells": [
  {
   "cell_type": "markdown",
   "id": "5a885654-178b-48b6-963f-8406b2d629fd",
   "metadata": {},
   "source": [
    "We install here the required dependencies"
   ]
  },
  {
   "cell_type": "code",
   "execution_count": 1,
   "id": "452d403f-a92d-43aa-9e46-b2e4306e7304",
   "metadata": {},
   "outputs": [
    {
     "name": "stdout",
     "output_type": "stream",
     "text": [
      "Requirement already satisfied: kuzu in .\\.venv\\lib\\site-packages (0.7.0)\n"
     ]
    }
   ],
   "source": [
    "!python -m pip install kuzu"
   ]
  },
  {
   "cell_type": "code",
   "execution_count": 2,
   "id": "76d20366-e6dd-449e-b6d5-487dedb28d71",
   "metadata": {},
   "outputs": [
    {
     "data": {
      "text/plain": [
       "[<kuzu.query_result.QueryResult at 0x2601a3e36e0>,\n",
       " <kuzu.query_result.QueryResult at 0x2601b8c98b0>]"
      ]
     },
     "execution_count": 2,
     "metadata": {},
     "output_type": "execute_result"
    }
   ],
   "source": [
    "import kuzu\n",
    "\n",
    "db = kuzu.Database('./kuzudb_elt')\n",
    "\n",
    "conn = kuzu.Connection(db)\n",
    "\n",
    "load_json_extension = \"\"\"\n",
    "INSTALL json;\n",
    "LOAD EXTENSION json;\n",
    "\"\"\"\n",
    "\n",
    "conn.execute(load_json_extension)"
   ]
  },
  {
   "cell_type": "markdown",
   "id": "f0b5810d-bdcf-4e87-baae-115b23fae03f",
   "metadata": {},
   "source": [
    "Let's drop the old edges and then nodes (if they exist)"
   ]
  },
  {
   "cell_type": "code",
   "execution_count": 3,
   "id": "45c681d0-d593-4b91-a7d8-05c0a8bec979",
   "metadata": {},
   "outputs": [],
   "source": [
    "SHOW_EDGE_TABLES = \"\"\"\n",
    "CALL SHOW_TABLES() WHERE type='REL' RETURN *;\n",
    "\"\"\"\n",
    "result_set = conn.execute(SHOW_EDGE_TABLES)\n",
    "while result_set.has_next():\n",
    "    table_name = result_set.get_next()[0]\n",
    "    print(f\"DROPPING {table_name}\")\n",
    "    conn.execute(f\"DROP TABLE {table_name};\")\n",
    "\n",
    "result_set.close()\n",
    "\n",
    "SHOW_NODE_TABLES = \"\"\"\n",
    "CALL SHOW_TABLES() WHERE type='NODE' RETURN *;\n",
    "\"\"\"\n",
    "result_set = conn.execute(SHOW_NODE_TABLES)\n",
    "while result_set.has_next():\n",
    "    table_name = result_set.get_next()[0]\n",
    "    print(f\"DROPPING {table_name}\")\n",
    "    conn.execute(f\"DROP TABLE {table_name};\")\n",
    "\n",
    "result_set.close()"
   ]
  },
  {
   "cell_type": "markdown",
   "id": "22aa0b5d-4754-4742-b665-663148942f27",
   "metadata": {},
   "source": [
    "Now we load the nodes."
   ]
  },
  {
   "cell_type": "code",
   "execution_count": 4,
   "id": "bf3ce293-1cc1-4c37-9106-5907825baf94",
   "metadata": {},
   "outputs": [
    {
     "name": "stdout",
     "output_type": "stream",
     "text": [
      "Executing statement CREATE NODE TABLE IMDB_BUSINESS_CAST(cast_id STRING, description STRUCT(category STRING, characters STRING)[], job STRING, PRIMARY KEY (cast_id));\n",
      "\n",
      "Executing statement CREATE NODE TABLE IMDB_BUSINESS_NAME(nconst STRING, primaryName STRING, birthYear INT64, deathYear INT64, primaryProfession STRING[], PRIMARY KEY (nconst));\n",
      "\n",
      "Executing statement CREATE NODE TABLE IMDB_BUSINESS_TITLE(tconst STRING, titleType STRING, primaryTitle STRING, originalTitle STRING, isAdult BOOLEAN, startYear INT64, endYear INT64, runtimeMinutes INT64, genres STRING[], averageRating FLOAT, numVotes INT64, seasonNumber INT64, episodeNumber INT64, PRIMARY KEY (tconst));\n",
      "\n",
      "Executing statement CREATE NODE TABLE IMDB_BUSINESS_TITLE_ALIAS(alias_id STRING, title STRING, region STRING, language STRING,  types STRING[], attributes STRING[], isOriginalTitle BOOLEAN, PRIMARY KEY (alias_id));\n",
      "Executing statement COPY IMDB_BUSINESS_CAST FROM \"./export_elt/node_gold_business_cast.json\"\n",
      "\n",
      "Executing statement COPY IMDB_BUSINESS_NAME FROM \"./export_elt/node_gold_business_name.json\"\n",
      "\n",
      "Executing statement COPY IMDB_BUSINESS_TITLE FROM \"./export_elt/node_gold_business_title.json\"\n",
      "\n",
      "Executing statement COPY IMDB_BUSINESS_TITLE_ALIAS FROM \"./export_elt/node_gold_business_title_alias.json\"\n"
     ]
    }
   ],
   "source": [
    "with open('dml_statements/elt_kuzudb_node_schema.sql') as f:\n",
    "    creation_lines = [line for line in f]\n",
    "\n",
    "with open('dml_statements/elt_kuzudb_node_import.sql') as f:\n",
    "    import_lines = [line for line in f]\n",
    "    \n",
    "\n",
    "#do not forget the primary keys for seeds\n",
    "\n",
    "    \n",
    "for line in creation_lines:\n",
    "    print(f\"Executing statement {line}\")\n",
    "    conn.execute(line)\n",
    "\n",
    "for line in import_lines:\n",
    "    print(f\"Executing statement {line}\")\n",
    "    conn.execute(line)"
   ]
  },
  {
   "cell_type": "markdown",
   "id": "e45b6919-9c52-4313-bd17-880da51c91f9",
   "metadata": {},
   "source": [
    "Now we load the relationships."
   ]
  },
  {
   "cell_type": "code",
   "execution_count": null,
   "id": "f5ffe483-6d78-40ef-b278-3568445bde6c",
   "metadata": {},
   "outputs": [
    {
     "name": "stdout",
     "output_type": "stream",
     "text": [
      "Executing statement CREATE REL TABLE  IMDB_BUSiNESS_NAME_KNOWN_FOR_TITLE(FROM IMDB_BUSINESS_NAME TO IMDB_BUSINESS_TITLE);\n",
      "\n",
      "Executing statement CREATE REL TABLE  IMDB_BUSiNESS_TITLE_ALIAS_ALIASES_TITLE(FROM IMDB_BUSINESS_TITLE_ALIAS TO IMDB_BUSINESS_TITLE);\n",
      "\n",
      "Executing statement CREATE REL TABLE  IMDB_BUSiNESS_TITLE_HAS_DIRECTOR_NAME(FROM IMDB_BUSINESS_TITLE TO IMDB_BUSINESS_NAME);\n",
      "\n",
      "Executing statement CREATE REL TABLE  IMDB_BUSiNESS_TITLE_HAS_PARENT_TITLE(FROM IMDB_BUSINESS_TITLE TO IMDB_BUSINESS_TITLE);\n",
      "\n",
      "Executing statement CREATE REL TABLE  IMDB_BUSiNESS_TITLE_HAS_WRITER_NAME(FROM IMDB_BUSINESS_TITLE TO IMDB_BUSINESS_NAME);\n",
      "Executing statement COPY IMDB_BUSiNESS_NAME_KNOWN_FOR_TITLE FROM \"./export_elt/edge_gold_business_name_known_for_title.json\"\n",
      "\n",
      "Executing statement COPY IMDB_BUSiNESS_TITLE_ALIAS_ALIASES_TITLE FROM \"./export_elt/edge_gold_business_title_alias_aliases_title.json\"\n",
      "\n",
      "Executing statement COPY IMDB_BUSiNESS_TITLE_HAS_DIRECTOR_NAME FROM \"./export_elt/edge_gold_business_title_has_director_name.json\"\n",
      "\n",
      "Executing statement COPY IMDB_BUSiNESS_TITLE_HAS_PARENT_TITLE FROM \"./export_elt/edge_gold_business_title_has_parent_title.json\"\n",
      "\n"
     ]
    },
    {
     "ename": "RuntimeError",
     "evalue": "Copy exception: Found NULL, which violates the non-null constraint of the primary key column.",
     "output_type": "error",
     "traceback": [
      "\u001b[1;31m---------------------------------------------------------------------------\u001b[0m",
      "\u001b[1;31mRuntimeError\u001b[0m                              Traceback (most recent call last)",
      "Cell \u001b[1;32mIn[6], line 18\u001b[0m\n\u001b[0;32m     16\u001b[0m \u001b[38;5;28;01mfor\u001b[39;00m line \u001b[38;5;129;01min\u001b[39;00m import_lines:\n\u001b[0;32m     17\u001b[0m     \u001b[38;5;28mprint\u001b[39m(\u001b[38;5;124mf\u001b[39m\u001b[38;5;124m\"\u001b[39m\u001b[38;5;124mExecuting statement \u001b[39m\u001b[38;5;132;01m{\u001b[39;00mline\u001b[38;5;132;01m}\u001b[39;00m\u001b[38;5;124m\"\u001b[39m)\n\u001b[1;32m---> 18\u001b[0m     \u001b[43mconn\u001b[49m\u001b[38;5;241;43m.\u001b[39;49m\u001b[43mexecute\u001b[49m\u001b[43m(\u001b[49m\u001b[43mline\u001b[49m\u001b[43m)\u001b[49m\n",
      "File \u001b[1;32mc:\\work\\comprehensive_imdb_analysis\\.venv\\Lib\\site-packages\\kuzu\\connection.py:130\u001b[0m, in \u001b[0;36mConnection.execute\u001b[1;34m(self, query, parameters)\u001b[0m\n\u001b[0;32m    127\u001b[0m     \u001b[38;5;28;01mraise\u001b[39;00m \u001b[38;5;167;01mRuntimeError\u001b[39;00m(msg)  \u001b[38;5;66;03m# noqa: TRY004\u001b[39;00m\n\u001b[0;32m    129\u001b[0m \u001b[38;5;28;01mif\u001b[39;00m \u001b[38;5;28mlen\u001b[39m(parameters) \u001b[38;5;241m==\u001b[39m \u001b[38;5;241m0\u001b[39m:\n\u001b[1;32m--> 130\u001b[0m     _query_result \u001b[38;5;241m=\u001b[39m \u001b[38;5;28;43mself\u001b[39;49m\u001b[38;5;241;43m.\u001b[39;49m\u001b[43m_connection\u001b[49m\u001b[38;5;241;43m.\u001b[39;49m\u001b[43mquery\u001b[49m\u001b[43m(\u001b[49m\u001b[43mquery\u001b[49m\u001b[43m)\u001b[49m\n\u001b[0;32m    131\u001b[0m \u001b[38;5;28;01melse\u001b[39;00m:\n\u001b[0;32m    132\u001b[0m     prepared_statement \u001b[38;5;241m=\u001b[39m \u001b[38;5;28mself\u001b[39m\u001b[38;5;241m.\u001b[39mprepare(query) \u001b[38;5;28;01mif\u001b[39;00m \u001b[38;5;28misinstance\u001b[39m(query, \u001b[38;5;28mstr\u001b[39m) \u001b[38;5;28;01melse\u001b[39;00m query\n",
      "\u001b[1;31mRuntimeError\u001b[0m: Copy exception: Found NULL, which violates the non-null constraint of the primary key column."
     ]
    }
   ],
   "source": [
    "with open('dml_statements/elt_kuzudb_rel_schema.sql') as f:\n",
    "    creation_lines = [line for line in f]\n",
    "\n",
    "with open('dml_statements/elt_kuzudb_rel_import.sql') as f:\n",
    "    import_lines = [line for line in f]\n",
    "    \n",
    "\n",
    "#do not forget the primary keys for seeds\n",
    "    \n",
    "for line in creation_lines:\n",
    "    print(f\"Executing statement {line}\")\n",
    "    conn.execute(line)\n",
    "\n",
    "for line in import_lines:\n",
    "    print(f\"Executing statement {line}\")\n",
    "    conn.execute(line)"
   ]
  }
 ],
 "metadata": {
  "kernelspec": {
   "display_name": ".venv",
   "language": "python",
   "name": "python3"
  },
  "language_info": {
   "codemirror_mode": {
    "name": "ipython",
    "version": 3
   },
   "file_extension": ".py",
   "mimetype": "text/x-python",
   "name": "python",
   "nbconvert_exporter": "python",
   "pygments_lexer": "ipython3",
   "version": "3.12.7"
  }
 },
 "nbformat": 4,
 "nbformat_minor": 5
}
