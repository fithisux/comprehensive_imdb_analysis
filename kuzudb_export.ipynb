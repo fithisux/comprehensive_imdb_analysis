{
 "cells": [
  {
   "cell_type": "markdown",
   "id": "9bd4ddbc-b8c4-44dc-9d96-1134b857e092",
   "metadata": {},
   "source": [
    "We make sure the export statements are generated through the dbt project. Just scan edge/node files."
   ]
  },
  {
   "cell_type": "code",
   "execution_count": 1,
   "id": "c19de594",
   "metadata": {},
   "outputs": [
    {
     "name": "stdout",
     "output_type": "stream",
     "text": [
      "export_elt\\edge_gold_business_cast_has_name.json\n",
      "export_elt\\edge_gold_business_cast_has_title.json\n",
      "export_elt\\edge_gold_business_name_known_for_title.json\n",
      "export_elt\\edge_gold_business_title_alias_aliases_title.json\n",
      "export_elt\\edge_gold_business_title_has_director_name.json\n",
      "export_elt\\edge_gold_business_title_has_parent_title.json\n",
      "export_elt\\edge_gold_business_title_has_writer_name.json\n",
      "export_elt\\node_gold_business_cast.json\n",
      "export_elt\\node_gold_business_name.json\n",
      "export_elt\\node_gold_business_title.json\n",
      "export_elt\\node_gold_business_title_alias.json\n"
     ]
    }
   ],
   "source": [
    "import pathlib\n",
    "\n",
    "WHERE_IS_DBT_PROJECT_SQLS = \"./models/gold_business_graph/*.sql\"\n",
    "\n",
    "table_names = [f.name.split('.')[0] for f in pathlib.Path().glob(WHERE_IS_DBT_PROJECT_SQLS)]\n",
    "\n",
    "WHERE_TO_EXPORT_JSON_FILES = './export_elt'\n",
    "\n",
    "p = pathlib.Path(WHERE_TO_EXPORT_JSON_FILES)\n",
    "p.mkdir(exist_ok=True)\n",
    "\n",
    "for json_file in p.glob('*.json'):\n",
    "    print(json_file)\n",
    "    json_file.unlink()"
   ]
  },
  {
   "cell_type": "code",
   "execution_count": 2,
   "id": "fb858e88-bea1-464c-b061-49ae1019eda8",
   "metadata": {},
   "outputs": [
    {
     "name": "stdout",
     "output_type": "stream",
     "text": [
      "USE main;\n",
      "COPY imdb_gold_business_graph.edge_gold_business_cast_has_name TO './export_elt/edge_gold_business_cast_has_name.json' (ARRAY);\n",
      "COPY imdb_gold_business_graph.edge_gold_business_cast_has_title TO './export_elt/edge_gold_business_cast_has_title.json' (ARRAY);\n",
      "COPY imdb_gold_business_graph.edge_gold_business_name_known_for_title TO './export_elt/edge_gold_business_name_known_for_title.json' (ARRAY);\n",
      "COPY imdb_gold_business_graph.edge_gold_business_title_alias_aliases_title TO './export_elt/edge_gold_business_title_alias_aliases_title.json' (ARRAY);\n",
      "COPY imdb_gold_business_graph.edge_gold_business_title_has_director_name TO './export_elt/edge_gold_business_title_has_director_name.json' (ARRAY);\n",
      "COPY imdb_gold_business_graph.edge_gold_business_title_has_parent_title TO './export_elt/edge_gold_business_title_has_parent_title.json' (ARRAY);\n",
      "COPY imdb_gold_business_graph.edge_gold_business_title_has_writer_name TO './export_elt/edge_gold_business_title_has_writer_name.json' (ARRAY);\n",
      "COPY imdb_gold_business_graph.node_gold_business_cast TO './export_elt/node_gold_business_cast.json' (ARRAY);\n",
      "COPY imdb_gold_business_graph.node_gold_business_name TO './export_elt/node_gold_business_name.json' (ARRAY);\n",
      "COPY imdb_gold_business_graph.node_gold_business_title TO './export_elt/node_gold_business_title.json' (ARRAY);\n",
      "COPY imdb_gold_business_graph.node_gold_business_title_alias TO './export_elt/node_gold_business_title_alias.json' (ARRAY);\n"
     ]
    }
   ],
   "source": [
    "use_statement = \"USE main;\"\n",
    "\n",
    "sql_statements = [use_statement]\n",
    "for table_name in table_names:\n",
    "    export_statement = f\"COPY imdb_gold_business_graph.{table_name} TO '{WHERE_TO_EXPORT_JSON_FILES}/{table_name}.json' (ARRAY);\"\n",
    "    sql_statements.append(export_statement)\n",
    "\n",
    "print(\"\\n\".join(sql_statements))"
   ]
  },
  {
   "cell_type": "markdown",
   "id": "e1454524-5708-4c65-a784-40eaafafd1e3",
   "metadata": {},
   "source": [
    "We export to json node/edge tables"
   ]
  },
  {
   "cell_type": "code",
   "execution_count": 3,
   "id": "5aa4f08d",
   "metadata": {},
   "outputs": [
    {
     "name": "stdout",
     "output_type": "stream",
     "text": [
      "Requirement already satisfied: duckdb in .\\.venv\\lib\\site-packages (1.1.3)\n"
     ]
    }
   ],
   "source": [
    "!python -m pip install duckdb"
   ]
  },
  {
   "cell_type": "code",
   "execution_count": 4,
   "id": "21e47b9e",
   "metadata": {},
   "outputs": [
    {
     "name": "stdout",
     "output_type": "stream",
     "text": [
      "SQL statement is USE main;\n",
      "SQL statement is COPY imdb_gold_business_graph.edge_gold_business_cast_has_name TO './export_elt/edge_gold_business_cast_has_name.json' (ARRAY);\n",
      "SQL statement is COPY imdb_gold_business_graph.edge_gold_business_cast_has_title TO './export_elt/edge_gold_business_cast_has_title.json' (ARRAY);\n",
      "SQL statement is COPY imdb_gold_business_graph.edge_gold_business_name_known_for_title TO './export_elt/edge_gold_business_name_known_for_title.json' (ARRAY);\n",
      "SQL statement is COPY imdb_gold_business_graph.edge_gold_business_title_alias_aliases_title TO './export_elt/edge_gold_business_title_alias_aliases_title.json' (ARRAY);\n",
      "SQL statement is COPY imdb_gold_business_graph.edge_gold_business_title_has_director_name TO './export_elt/edge_gold_business_title_has_director_name.json' (ARRAY);\n",
      "SQL statement is COPY imdb_gold_business_graph.edge_gold_business_title_has_parent_title TO './export_elt/edge_gold_business_title_has_parent_title.json' (ARRAY);\n",
      "SQL statement is COPY imdb_gold_business_graph.edge_gold_business_title_has_writer_name TO './export_elt/edge_gold_business_title_has_writer_name.json' (ARRAY);\n",
      "SQL statement is COPY imdb_gold_business_graph.node_gold_business_cast TO './export_elt/node_gold_business_cast.json' (ARRAY);\n",
      "SQL statement is COPY imdb_gold_business_graph.node_gold_business_name TO './export_elt/node_gold_business_name.json' (ARRAY);\n",
      "SQL statement is COPY imdb_gold_business_graph.node_gold_business_title TO './export_elt/node_gold_business_title.json' (ARRAY);\n",
      "SQL statement is COPY imdb_gold_business_graph.node_gold_business_title_alias TO './export_elt/node_gold_business_title_alias.json' (ARRAY);\n"
     ]
    }
   ],
   "source": [
    "import duckdb\n",
    "con = duckdb.connect(\"./database_files/dev.duckdb\")\n",
    "\n",
    "for sql_statement in sql_statements:\n",
    "    print(f\"SQL statement is {sql_statement}\")\n",
    "    con.sql(sql_statement)\n",
    "\n",
    "con.close()"
   ]
  }
 ],
 "metadata": {
  "kernelspec": {
   "display_name": ".venv",
   "language": "python",
   "name": "python3"
  },
  "language_info": {
   "codemirror_mode": {
    "name": "ipython",
    "version": 3
   },
   "file_extension": ".py",
   "mimetype": "text/x-python",
   "name": "python",
   "nbconvert_exporter": "python",
   "pygments_lexer": "ipython3",
   "version": "3.12.7"
  }
 },
 "nbformat": 4,
 "nbformat_minor": 5
}
